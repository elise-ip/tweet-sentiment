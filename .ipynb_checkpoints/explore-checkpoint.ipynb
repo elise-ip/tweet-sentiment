{
 "cells": [
  {
   "cell_type": "code",
   "execution_count": 20,
   "id": "e7fecd4d",
   "metadata": {},
   "outputs": [],
   "source": [
    "import pandas as pd\n",
    "# Training Data\n",
    "training_df = pd.read_csv(r\"C:\\Users\\ebrady\\Personal Projects\\tweet-sentiment\\data\\twitter_training.csv\")\n",
    "\n",
    "# Validation Data\n",
    "validation_df = pd.read_csv(r\"C:\\Users\\ebrady\\Personal Projects\\tweet-sentiment\\data\\twitter_validation.csv\")"
   ]
  },
  {
   "cell_type": "code",
   "execution_count": 21,
   "id": "9325fe38",
   "metadata": {},
   "outputs": [
    {
     "data": {
      "text/html": [
       "<div>\n",
       "<style scoped>\n",
       "    .dataframe tbody tr th:only-of-type {\n",
       "        vertical-align: middle;\n",
       "    }\n",
       "\n",
       "    .dataframe tbody tr th {\n",
       "        vertical-align: top;\n",
       "    }\n",
       "\n",
       "    .dataframe thead th {\n",
       "        text-align: right;\n",
       "    }\n",
       "</style>\n",
       "<table border=\"1\" class=\"dataframe\">\n",
       "  <thead>\n",
       "    <tr style=\"text-align: right;\">\n",
       "      <th></th>\n",
       "      <th>ID</th>\n",
       "      <th>SOURCE</th>\n",
       "      <th>SENTIMENT</th>\n",
       "      <th>TWEET</th>\n",
       "    </tr>\n",
       "  </thead>\n",
       "  <tbody>\n",
       "    <tr>\n",
       "      <th>43178</th>\n",
       "      <td>10211</td>\n",
       "      <td>PlayerUnknownsBattlegrounds(PUBG)</td>\n",
       "      <td>Irrelevant</td>\n",
       "      <td>fears women because they beat his ass in training</td>\n",
       "    </tr>\n",
       "    <tr>\n",
       "      <th>42175</th>\n",
       "      <td>10036</td>\n",
       "      <td>PlayerUnknownsBattlegrounds(PUBG)</td>\n",
       "      <td>Positive</td>\n",
       "      <td>ended with me playing pubg and not doing my as...</td>\n",
       "    </tr>\n",
       "    <tr>\n",
       "      <th>68224</th>\n",
       "      <td>3683</td>\n",
       "      <td>Cyberpunk2077</td>\n",
       "      <td>Positive</td>\n",
       "      <td>Can't wait to get it tried on any next gen con...</td>\n",
       "    </tr>\n",
       "    <tr>\n",
       "      <th>12379</th>\n",
       "      <td>8528</td>\n",
       "      <td>NBA2K</td>\n",
       "      <td>Negative</td>\n",
       "      <td>Same game smh... @ NBA2K</td>\n",
       "    </tr>\n",
       "    <tr>\n",
       "      <th>71419</th>\n",
       "      <td>11033</td>\n",
       "      <td>TomClancysGhostRecon</td>\n",
       "      <td>Neutral</td>\n",
       "      <td>It is true that</td>\n",
       "    </tr>\n",
       "    <tr>\n",
       "      <th>38995</th>\n",
       "      <td>5494</td>\n",
       "      <td>Hearthstone</td>\n",
       "      <td>Positive</td>\n",
       "      <td>Odd Rogue (Wild) Used this to beat Legend 3 ti...</td>\n",
       "    </tr>\n",
       "    <tr>\n",
       "      <th>53130</th>\n",
       "      <td>10728</td>\n",
       "      <td>RedDeadRedemption(RDR)</td>\n",
       "      <td>Positive</td>\n",
       "      <td>'But what really got under my skin was the swe...</td>\n",
       "    </tr>\n",
       "    <tr>\n",
       "      <th>14079</th>\n",
       "      <td>2814</td>\n",
       "      <td>Dota2</td>\n",
       "      <td>Negative</td>\n",
       "      <td>I distrust freddy and i despise dota 2  -  Casey</td>\n",
       "    </tr>\n",
       "    <tr>\n",
       "      <th>60862</th>\n",
       "      <td>4829</td>\n",
       "      <td>GrandTheftAuto(GTA)</td>\n",
       "      <td>Neutral</td>\n",
       "      <td>thinking about how i been killed before my fri...</td>\n",
       "    </tr>\n",
       "    <tr>\n",
       "      <th>18555</th>\n",
       "      <td>9980</td>\n",
       "      <td>PlayStation5(PS5)</td>\n",
       "      <td>Neutral</td>\n",
       "      <td>For sale on eBay along wit two other custom co...</td>\n",
       "    </tr>\n",
       "  </tbody>\n",
       "</table>\n",
       "</div>"
      ],
      "text/plain": [
       "          ID                             SOURCE   SENTIMENT  \\\n",
       "43178  10211  PlayerUnknownsBattlegrounds(PUBG)  Irrelevant   \n",
       "42175  10036  PlayerUnknownsBattlegrounds(PUBG)    Positive   \n",
       "68224   3683                      Cyberpunk2077    Positive   \n",
       "12379   8528                              NBA2K    Negative   \n",
       "71419  11033               TomClancysGhostRecon     Neutral   \n",
       "38995   5494                        Hearthstone    Positive   \n",
       "53130  10728             RedDeadRedemption(RDR)    Positive   \n",
       "14079   2814                              Dota2    Negative   \n",
       "60862   4829                GrandTheftAuto(GTA)     Neutral   \n",
       "18555   9980                  PlayStation5(PS5)     Neutral   \n",
       "\n",
       "                                                   TWEET  \n",
       "43178  fears women because they beat his ass in training  \n",
       "42175  ended with me playing pubg and not doing my as...  \n",
       "68224  Can't wait to get it tried on any next gen con...  \n",
       "12379                           Same game smh... @ NBA2K  \n",
       "71419                                    It is true that  \n",
       "38995  Odd Rogue (Wild) Used this to beat Legend 3 ti...  \n",
       "53130  'But what really got under my skin was the swe...  \n",
       "14079   I distrust freddy and i despise dota 2  -  Casey  \n",
       "60862  thinking about how i been killed before my fri...  \n",
       "18555  For sale on eBay along wit two other custom co...  "
      ]
     },
     "execution_count": 21,
     "metadata": {},
     "output_type": "execute_result"
    }
   ],
   "source": [
    "# Visualize the training data\n",
    "training_df.sample(frac=1).head(10)"
   ]
  },
  {
   "cell_type": "code",
   "execution_count": 39,
   "id": "8b95db87",
   "metadata": {},
   "outputs": [],
   "source": [
    "# Visualize split of source\n",
    "training_df['SOURCE'].value_counts()\n",
    "\n",
    "# Visualize split of sentiment\n",
    "training_df['SENTIMENT'].value_counts()"
   ]
  },
  {
   "cell_type": "code",
   "execution_count": null,
   "id": "cd38a6a4",
   "metadata": {},
   "outputs": [],
   "source": [
    "### Downsample\n"
   ]
  },
  {
   "cell_type": "code",
   "execution_count": 41,
   "id": "44053046",
   "metadata": {},
   "outputs": [
    {
     "name": "stdout",
     "output_type": "stream",
     "text": [
      "       SOURCE  SENTIMENT                                              TWEET\n",
      "0           4          3  im getting on borderlands and i will murder yo...\n",
      "1           4          3  I am coming to the borders and I will kill you...\n",
      "2           4          3  im getting on borderlands and i will kill you ...\n",
      "3           4          3  im coming on borderlands and i will murder you...\n",
      "4           4          3  im getting on borderlands 2 and i will murder ...\n",
      "...       ...        ...                                                ...\n",
      "74677      21          3  Just realized that the Windows partition of my...\n",
      "74678      21          3  Just realized that my Mac window partition is ...\n",
      "74679      21          3  Just realized the windows partition of my Mac ...\n",
      "74680      21          3  Just realized between the windows partition of...\n",
      "74681      21          3  Just like the windows partition of my Mac is l...\n",
      "\n",
      "[73996 rows x 3 columns]\n"
     ]
    }
   ],
   "source": [
    "from sklearn.preprocessing import LabelEncoder\n",
    "\n",
    "dfs = []\n",
    "for df in [training_df, validation_df]:\n",
    "    ### Remove Null Tweets\n",
    "    df = df.dropna(subset=['TWEET'])\n",
    "    \n",
    "    ### Encode Source\n",
    "    le = LabelEncoder()\n",
    "    df['SOURCE'] = le.fit_transform(df['SOURCE'])\n",
    "\n",
    "    ### Encode Sentiment\n",
    "    df['SENTIMENT'] = le.fit_transform(df['SENTIMENT'])\n",
    "\n",
    "    ### Drop ID\n",
    "    df = df.drop(columns={'ID'})\n",
    "    \n",
    "    # Append dataframes\n",
    "    dfs.append(df)\n",
    "\n",
    "training_df, validation_df = dfs"
   ]
  },
  {
   "cell_type": "code",
   "execution_count": null,
   "id": "74dee9de",
   "metadata": {},
   "outputs": [],
   "source": [
    "### Set character threshold\n"
   ]
  },
  {
   "cell_type": "code",
   "execution_count": 42,
   "id": "cbb66c10",
   "metadata": {},
   "outputs": [],
   "source": [
    "from sklearn.feature_extraction.text import TfidfVectorizer\n",
    "\n",
    "# Feature Vectorization\n",
    "vectorizer = TfidfVectorizer(min_df = 5,\n",
    "                             max_df = 0.8,\n",
    "                             sublinear_tf = True,\n",
    "                             use_idf = True)\n",
    "\n",
    "train_vecs = vectorizer.fit_transform(training_df['TWEET'])\n",
    "val_vecs = vectorizer.transform(validation_df['TWEET'])"
   ]
  },
  {
   "cell_type": "code",
   "execution_count": null,
   "id": "977e8fc7",
   "metadata": {},
   "outputs": [],
   "source": [
    "type(train_vecs)"
   ]
  },
  {
   "cell_type": "code",
   "execution_count": null,
   "id": "db5e8a5a",
   "metadata": {},
   "outputs": [],
   "source": [
    "from sklearn import svm\n",
    "from sklearn.metrics import classification_report\n",
    "\n",
    "x_train = train_vecs\n",
    "y_train = \n",
    "\n",
    "x_val = val_vecs\n",
    "y_val_true = \n",
    "\n",
    "# Perform classification with SVM, kernel=linear\n",
    "linear_svm = svm.SVC(kernel='linear')\n",
    "linear_svm.fit(train_vecs, training_df['SENTIMENT'])\n",
    "yval_pred = linear_svm.predict(val_vecs)\n",
    "\n",
    "# Results\n",
    "report = classification_report(validation_df['SENTIMENT'], prediction_linear, output_dict=True)\n",
    "print('positive: ', report['pos'])\n",
    "print('negative: ', report['neg'])\n"
   ]
  },
  {
   "cell_type": "code",
   "execution_count": null,
   "id": "aae6c0f8",
   "metadata": {},
   "outputs": [],
   "source": [
    "from sklearn.metrics import f1_score\n",
    "f1_score(y_val_true, yval_pred)\n"
   ]
  },
  {
   "cell_type": "code",
   "execution_count": null,
   "id": "4282b6b7",
   "metadata": {},
   "outputs": [],
   "source": [
    "import time\n",
    "from sklearn import svm\n",
    "from sklearn.metrics import classification_report\n",
    "\n",
    "x_train = train_vecs\n",
    "\n",
    "# Perform classification with SVM, kernel=linear\n",
    "linear_svm = svm.SVC(kernel='linear')\n",
    "t0 = time.time()\n",
    "linear_svm.fit(train_vecs, training_df['SENTIMENT'])\n",
    "t1 = time.time()\n",
    "yval_pred = linear_svm.predict(val_vecs)\n",
    "t2 = time.time()\n",
    "time_linear_train = t1-t0\n",
    "time_linear_predict = t2-t1\n",
    "\n",
    "# results\n",
    "print(\"Training time: %fs; Prediction time: %fs\" % (time_linear_train, time_linear_predict))\n",
    "report = classification_report(validation_df['SENTIMENT'], prediction_linear, output_dict=True)\n",
    "print('positive: ', report['pos'])\n",
    "print('negative: ', report['neg'])"
   ]
  },
  {
   "cell_type": "code",
   "execution_count": null,
   "id": "6e236cd6",
   "metadata": {},
   "outputs": [],
   "source": []
  }
 ],
 "metadata": {
  "kernelspec": {
   "display_name": "Python 3 (ipykernel)",
   "language": "python",
   "name": "python3"
  },
  "language_info": {
   "codemirror_mode": {
    "name": "ipython",
    "version": 3
   },
   "file_extension": ".py",
   "mimetype": "text/x-python",
   "name": "python",
   "nbconvert_exporter": "python",
   "pygments_lexer": "ipython3",
   "version": "3.9.13"
  }
 },
 "nbformat": 4,
 "nbformat_minor": 5
}
