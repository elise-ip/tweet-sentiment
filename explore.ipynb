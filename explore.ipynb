{
 "cells": [
  {
   "cell_type": "code",
   "execution_count": 2,
   "id": "9b339329-a17d-4954-998a-444b641c7a77",
   "metadata": {
    "tags": []
   },
   "outputs": [
    {
     "name": "stdout",
     "output_type": "stream",
     "text": [
      "Requirement already satisfied: pandas in /opt/conda/lib/python3.10/site-packages (from -r requirements.txt (line 1)) (1.4.4)\n",
      "Collecting flake8==3.7.9 (from -r requirements.txt (line 2))\n",
      "  Using cached flake8-3.7.9-py2.py3-none-any.whl (69 kB)\n",
      "Collecting entrypoints<0.4.0,>=0.3.0 (from flake8==3.7.9->-r requirements.txt (line 2))\n",
      "  Using cached entrypoints-0.3-py2.py3-none-any.whl (11 kB)\n",
      "Collecting pyflakes<2.2.0,>=2.1.0 (from flake8==3.7.9->-r requirements.txt (line 2))\n",
      "  Using cached pyflakes-2.1.1-py2.py3-none-any.whl (59 kB)\n",
      "Collecting pycodestyle<2.6.0,>=2.5.0 (from flake8==3.7.9->-r requirements.txt (line 2))\n",
      "  Using cached pycodestyle-2.5.0-py2.py3-none-any.whl (51 kB)\n",
      "Collecting mccabe<0.7.0,>=0.6.0 (from flake8==3.7.9->-r requirements.txt (line 2))\n",
      "  Using cached mccabe-0.6.1-py2.py3-none-any.whl (8.6 kB)\n",
      "Requirement already satisfied: python-dateutil>=2.8.1 in /opt/conda/lib/python3.10/site-packages (from pandas->-r requirements.txt (line 1)) (2.8.2)\n",
      "Requirement already satisfied: pytz>=2020.1 in /opt/conda/lib/python3.10/site-packages (from pandas->-r requirements.txt (line 1)) (2022.1)\n",
      "Requirement already satisfied: numpy>=1.21.0 in /opt/conda/lib/python3.10/site-packages (from pandas->-r requirements.txt (line 1)) (1.26.0)\n",
      "Requirement already satisfied: six>=1.5 in /opt/conda/lib/python3.10/site-packages (from python-dateutil>=2.8.1->pandas->-r requirements.txt (line 1)) (1.16.0)\n",
      "Installing collected packages: mccabe, pyflakes, pycodestyle, entrypoints, flake8\n",
      "  Attempting uninstall: mccabe\n",
      "    Found existing installation: mccabe 0.7.0\n",
      "    Uninstalling mccabe-0.7.0:\n",
      "      Successfully uninstalled mccabe-0.7.0\n",
      "  Attempting uninstall: pyflakes\n",
      "    Found existing installation: pyflakes 2.4.0\n",
      "    Uninstalling pyflakes-2.4.0:\n",
      "      Successfully uninstalled pyflakes-2.4.0\n",
      "  Attempting uninstall: pycodestyle\n",
      "    Found existing installation: pycodestyle 2.8.0\n",
      "    Uninstalling pycodestyle-2.8.0:\n",
      "      Successfully uninstalled pycodestyle-2.8.0\n",
      "  Attempting uninstall: entrypoints\n",
      "    Found existing installation: entrypoints 0.4\n",
      "    Uninstalling entrypoints-0.4:\n",
      "      Successfully uninstalled entrypoints-0.4\n",
      "  Attempting uninstall: flake8\n",
      "    Found existing installation: flake8 4.0.1\n",
      "    Uninstalling flake8-4.0.1:\n",
      "      Successfully uninstalled flake8-4.0.1\n",
      "\u001b[31mERROR: pip's dependency resolver does not currently take into account all the packages that are installed. This behaviour is the source of the following dependency conflicts.\n",
      "spyder 5.3.3 requires pyqt5<5.16, which is not installed.\n",
      "spyder 5.3.3 requires pyqtwebengine<5.16, which is not installed.\n",
      "autopep8 1.6.0 requires pycodestyle>=2.8.0, but you have pycodestyle 2.5.0 which is incompatible.\n",
      "jupyterlab-server 2.10.3 requires jupyter-server~=1.4, but you have jupyter-server 2.7.3 which is incompatible.\n",
      "spyder 5.3.3 requires ipython<8.0.0,>=7.31.1, but you have ipython 8.16.1 which is incompatible.\n",
      "spyder 5.3.3 requires pylint<3.0,>=2.5.0, but you have pylint 3.0.1 which is incompatible.\u001b[0m\u001b[31m\n",
      "\u001b[0mSuccessfully installed entrypoints-0.3 flake8-3.7.9 mccabe-0.6.1 pycodestyle-2.5.0 pyflakes-2.1.1\n",
      "\u001b[33mWARNING: Running pip as the 'root' user can result in broken permissions and conflicting behaviour with the system package manager. It is recommended to use a virtual environment instead: https://pip.pypa.io/warnings/venv\u001b[0m\u001b[33m\n",
      "\u001b[0m\n",
      "\u001b[1m[\u001b[0m\u001b[34;49mnotice\u001b[0m\u001b[1;39;49m]\u001b[0m\u001b[39;49m A new release of pip is available: \u001b[0m\u001b[31;49m23.2.1\u001b[0m\u001b[39;49m -> \u001b[0m\u001b[32;49m23.3.1\u001b[0m\n",
      "\u001b[1m[\u001b[0m\u001b[34;49mnotice\u001b[0m\u001b[1;39;49m]\u001b[0m\u001b[39;49m To update, run: \u001b[0m\u001b[32;49mpip install --upgrade pip\u001b[0m\n"
     ]
    }
   ],
   "source": [
    "!pip install -r requirements.txt"
   ]
  },
  {
   "cell_type": "code",
   "execution_count": 3,
   "id": "e7fecd4d",
   "metadata": {
    "tags": []
   },
   "outputs": [],
   "source": [
    "import pandas as pd\n",
    "# Training Data\n",
    "# training_df = pd.read_csv(r\"C:\\Users\\ebrady\\Personal Projects\\tweet-sentiment\\data\\twitter_training.csv\")\n",
    "training_df = pd.read_csv(r\"data/twitter_training.csv\")\n",
    "\n",
    "# Validation Data\n",
    "# validation_df = pd.read_csv(r\"C:\\Users\\ebrady\\Personal Projects\\tweet-sentiment\\data\\twitter_validation.csv\")\n",
    "validation_df = pd.read_csv(r\"data/twitter_validation.csv\")"
   ]
  },
  {
   "cell_type": "code",
   "execution_count": 4,
   "id": "9325fe38",
   "metadata": {
    "tags": []
   },
   "outputs": [
    {
     "data": {
      "text/html": [
       "<div>\n",
       "<style scoped>\n",
       "    .dataframe tbody tr th:only-of-type {\n",
       "        vertical-align: middle;\n",
       "    }\n",
       "\n",
       "    .dataframe tbody tr th {\n",
       "        vertical-align: top;\n",
       "    }\n",
       "\n",
       "    .dataframe thead th {\n",
       "        text-align: right;\n",
       "    }\n",
       "</style>\n",
       "<table border=\"1\" class=\"dataframe\">\n",
       "  <thead>\n",
       "    <tr style=\"text-align: right;\">\n",
       "      <th></th>\n",
       "      <th>ID</th>\n",
       "      <th>SOURCE</th>\n",
       "      <th>SENTIMENT</th>\n",
       "      <th>TWEET</th>\n",
       "    </tr>\n",
       "  </thead>\n",
       "  <tbody>\n",
       "    <tr>\n",
       "      <th>50562</th>\n",
       "      <td>6280</td>\n",
       "      <td>FIFA</td>\n",
       "      <td>Neutral</td>\n",
       "      <td>FUT’s menu stuff this year is the best it has ...</td>\n",
       "    </tr>\n",
       "    <tr>\n",
       "      <th>7836</th>\n",
       "      <td>9347</td>\n",
       "      <td>Overwatch</td>\n",
       "      <td>Positive</td>\n",
       "      <td>K I like this skin</td>\n",
       "    </tr>\n",
       "    <tr>\n",
       "      <th>556</th>\n",
       "      <td>2496</td>\n",
       "      <td>Borderlands</td>\n",
       "      <td>Neutral</td>\n",
       "      <td>Trying it out</td>\n",
       "    </tr>\n",
       "    <tr>\n",
       "      <th>73086</th>\n",
       "      <td>8921</td>\n",
       "      <td>Nvidia</td>\n",
       "      <td>Negative</td>\n",
       "      <td>Nvidia are keeping the site at Cambridge and e...</td>\n",
       "    </tr>\n",
       "    <tr>\n",
       "      <th>58299</th>\n",
       "      <td>11595</td>\n",
       "      <td>TomClancysRainbowSix</td>\n",
       "      <td>Negative</td>\n",
       "      <td>nice player models RhandlerR fix it pic.twitte...</td>\n",
       "    </tr>\n",
       "    <tr>\n",
       "      <th>6363</th>\n",
       "      <td>294</td>\n",
       "      <td>Amazon</td>\n",
       "      <td>Negative</td>\n",
       "      <td>@goodreads is quite a pain to use. Can you fix...</td>\n",
       "    </tr>\n",
       "    <tr>\n",
       "      <th>74494</th>\n",
       "      <td>9169</td>\n",
       "      <td>Nvidia</td>\n",
       "      <td>Negative</td>\n",
       "      <td>@BlizzardCSEU_EN... Can you play wow classic s...</td>\n",
       "    </tr>\n",
       "    <tr>\n",
       "      <th>68897</th>\n",
       "      <td>3799</td>\n",
       "      <td>Cyberpunk2077</td>\n",
       "      <td>Negative</td>\n",
       "      <td>a</td>\n",
       "    </tr>\n",
       "    <tr>\n",
       "      <th>41016</th>\n",
       "      <td>1439</td>\n",
       "      <td>Battlefield</td>\n",
       "      <td>Neutral</td>\n",
       "      <td>At the start of the gen we had these were a fe...</td>\n",
       "    </tr>\n",
       "    <tr>\n",
       "      <th>2804</th>\n",
       "      <td>1687</td>\n",
       "      <td>CallOfDutyBlackopsColdWar</td>\n",
       "      <td>Neutral</td>\n",
       "      <td>22 murderous series in the first game of the C...</td>\n",
       "    </tr>\n",
       "  </tbody>\n",
       "</table>\n",
       "</div>"
      ],
      "text/plain": [
       "          ID                     SOURCE SENTIMENT  \\\n",
       "50562   6280                       FIFA   Neutral   \n",
       "7836    9347                  Overwatch  Positive   \n",
       "556     2496                Borderlands   Neutral   \n",
       "73086   8921                     Nvidia  Negative   \n",
       "58299  11595       TomClancysRainbowSix  Negative   \n",
       "6363     294                     Amazon  Negative   \n",
       "74494   9169                     Nvidia  Negative   \n",
       "68897   3799              Cyberpunk2077  Negative   \n",
       "41016   1439                Battlefield   Neutral   \n",
       "2804    1687  CallOfDutyBlackopsColdWar   Neutral   \n",
       "\n",
       "                                                   TWEET  \n",
       "50562  FUT’s menu stuff this year is the best it has ...  \n",
       "7836                                  K I like this skin  \n",
       "556                                        Trying it out  \n",
       "73086  Nvidia are keeping the site at Cambridge and e...  \n",
       "58299  nice player models RhandlerR fix it pic.twitte...  \n",
       "6363   @goodreads is quite a pain to use. Can you fix...  \n",
       "74494  @BlizzardCSEU_EN... Can you play wow classic s...  \n",
       "68897                                                  a  \n",
       "41016  At the start of the gen we had these were a fe...  \n",
       "2804   22 murderous series in the first game of the C...  "
      ]
     },
     "execution_count": 4,
     "metadata": {},
     "output_type": "execute_result"
    }
   ],
   "source": [
    "# Visualize the training data\n",
    "training_df.sample(frac=1).head(10)"
   ]
  },
  {
   "cell_type": "code",
   "execution_count": 5,
   "id": "8b95db87",
   "metadata": {
    "tags": []
   },
   "outputs": [
    {
     "data": {
      "text/plain": [
       "Negative      22542\n",
       "Positive      20832\n",
       "Neutral       18318\n",
       "Irrelevant    12990\n",
       "Name: SENTIMENT, dtype: int64"
      ]
     },
     "execution_count": 5,
     "metadata": {},
     "output_type": "execute_result"
    }
   ],
   "source": [
    "# Visualize split of source\n",
    "training_df['SOURCE'].value_counts()\n",
    "\n",
    "# Visualize split of sentiment\n",
    "training_df['SENTIMENT'].value_counts()"
   ]
  },
  {
   "cell_type": "code",
   "execution_count": 8,
   "id": "44053046",
   "metadata": {
    "tags": []
   },
   "outputs": [
    {
     "name": "stderr",
     "output_type": "stream",
     "text": [
      "/tmp/ipykernel_19/1902893210.py:12: SettingWithCopyWarning: \n",
      "A value is trying to be set on a copy of a slice from a DataFrame.\n",
      "Try using .loc[row_indexer,col_indexer] = value instead\n",
      "\n",
      "See the caveats in the documentation: https://pandas.pydata.org/pandas-docs/stable/user_guide/indexing.html#returning-a-view-versus-a-copy\n",
      "  df[\"TWEET\"] = cleaned_strings\n",
      "/tmp/ipykernel_19/1902893210.py:16: SettingWithCopyWarning: \n",
      "A value is trying to be set on a copy of a slice from a DataFrame.\n",
      "Try using .loc[row_indexer,col_indexer] = value instead\n",
      "\n",
      "See the caveats in the documentation: https://pandas.pydata.org/pandas-docs/stable/user_guide/indexing.html#returning-a-view-versus-a-copy\n",
      "  df['SOURCE'] = le.fit_transform(df['SOURCE'])\n"
     ]
    }
   ],
   "source": [
    "from sklearn.preprocessing import LabelEncoder\n",
    "import re\n",
    "\n",
    "dfs = []\n",
    "for df in [training_df, validation_df]:\n",
    "    ### Remove Null Tweets\n",
    "    df = df.dropna(subset=['TWEET'])\n",
    "    cleaned_strings = []\n",
    "    for string in df[\"TWEET\"]:\n",
    "        string = re.sub('[^A-Za-z0-9 ]+', '', string)\n",
    "        cleaned_strings.append(string)\n",
    "    df[\"TWEET\"] = cleaned_strings\n",
    "    \n",
    "    ### Encode Source\n",
    "    le = LabelEncoder()\n",
    "    df['SOURCE'] = le.fit_transform(df['SOURCE'])\n",
    "\n",
    "    \n",
    "    ### Drop ID\n",
    "    df = df.drop(columns={'ID'})\n",
    "    \n",
    "    ### Downsample for equal samples of sentiment\n",
    "    from sklearn.utils import resample\n",
    "    neg_sentiment = df[df[\"SENTIMENT\"] == \"Negative\"]\n",
    "    pos_sentiment = df[df[\"SENTIMENT\"] == \"Positive\"]\n",
    "    neu_sentiment = df[df[\"SENTIMENT\"] == \"Neutral\"]\n",
    "    neg_downsample = resample(neg_sentiment,\n",
    "                         replace=True,\n",
    "                         n_samples=len(neu_sentiment),\n",
    "                         random_state=42)\n",
    "    pos_downsample = resample(pos_sentiment,\n",
    "                         replace=True,\n",
    "                         n_samples=len(neu_sentiment),\n",
    "                         random_state=42)\n",
    "\n",
    "    ### Combine downsamples into ['SENTIMENT']\n",
    "    df_merged = pd.concat([neu_sentiment, neg_downsample, pos_downsample], ignore_index=True, sort=False)\n",
    "    \n",
    "    ### Encode Sentiment\n",
    "    df_merged['SENTIMENT'] = le.fit_transform(df_merged['SENTIMENT'])\n",
    "\n",
    "    # Append dataframes\n",
    "    dfs.append(df_merged)\n",
    "\n",
    "training_df, validation_df = dfs\n"
   ]
  },
  {
   "cell_type": "code",
   "execution_count": 18,
   "id": "74dee9de",
   "metadata": {},
   "outputs": [],
   "source": [
    "# ### Set character threshold\n",
    "# temp_df = training_df.copy()\n",
    "# cleaned_strings = []\n",
    "# for string in temp_df[\"TWEET\"]:\n",
    "#     string = re.sub('[^A-Za-z0-9 ]+', '', string)\n",
    "#     if len(string) > 1:\n",
    "#         cleaned_strings.append(string)\n",
    "# temp_df[\"TWEET\"] = cleaned_strings\n"
   ]
  },
  {
   "cell_type": "code",
   "execution_count": 12,
   "id": "cbb66c10",
   "metadata": {},
   "outputs": [],
   "source": [
    "from sklearn.feature_extraction.text import TfidfVectorizer\n",
    "\n",
    "# Feature Vectorization\n",
    "vectorizer = TfidfVectorizer(min_df = 5,\n",
    "                             max_df = 0.8,\n",
    "                             sublinear_tf = True,\n",
    "                             use_idf = True)\n",
    "\n",
    "train_vecs = vectorizer.fit_transform(training_df['TWEET'])\n",
    "val_vecs = vectorizer.transform(validation_df['TWEET'])"
   ]
  },
  {
   "cell_type": "code",
   "execution_count": 26,
   "id": "a9ee47dc-05fd-46b6-9e66-911745d5c56b",
   "metadata": {},
   "outputs": [
    {
     "data": {
      "text/plain": [
       "['models/vectorizer.pkl']"
      ]
     },
     "execution_count": 26,
     "metadata": {},
     "output_type": "execute_result"
    }
   ],
   "source": [
    "import joblib\n",
    "joblib.dump(vectorizer, 'models/vectorizer.pkl', compress=True)"
   ]
  },
  {
   "cell_type": "code",
   "execution_count": 9,
   "id": "977e8fc7",
   "metadata": {},
   "outputs": [],
   "source": [
    "### Combine feature vectors with data\n",
    "\n",
    "# import pandas as pd\n",
    "# import scipy.sparse as sp\n",
    "\n",
    "# # Convert the DataFrame to a NumPy array\n",
    "# train_array = training_df['SOURCE'].values\n",
    "# val_array = validation_df['SOURCE'].values\n",
    "\n",
    "# # Convert the NumPy array to a SciPy sparse CSR matrix\n",
    "# train_csr_matrix = scipy.sparse.csr_matrix(train_array)\n",
    "# val_csr_matrix = scipy.sparse.csr_matrix(val_array)\n",
    "\n",
    "# # Use the `scipy.sparse.csr_matrix.vstack()` function to concatenate the two matrices\n",
    "# train_preproc = sp.vstack((train_csr_matrix, train_vecs))\n",
    "# val_preproc = sp.vstack((val_csr_matrix, val_vecs))"
   ]
  },
  {
   "cell_type": "code",
   "execution_count": 14,
   "id": "db5e8a5a",
   "metadata": {},
   "outputs": [],
   "source": [
    "from sklearn import svm\n",
    "from sklearn.metrics import classification_report\n",
    "\n",
    "x_train = train_vecs\n",
    "y_train = training_df['SENTIMENT']\n",
    "\n",
    "x_val = val_vecs\n",
    "yval_true = validation_df['SENTIMENT']\n",
    "\n",
    "# Perform classification with SVM, kernel=linear\n",
    "linear_svm = svm.SVC(kernel='linear')\n",
    "linear_svm.fit(x_train, y_train)\n",
    "yval_pred = linear_svm.predict(x_val)\n",
    "\n",
    "# Results\n",
    "report = classification_report(validation_df['SENTIMENT'], yval_pred, output_dict=True)\n"
   ]
  },
  {
   "cell_type": "code",
   "execution_count": 21,
   "id": "fd88acf1-052a-454c-a670-deedd4e7363c",
   "metadata": {
    "tags": []
   },
   "outputs": [
    {
     "data": {
      "text/plain": [
       "{'0': {'precision': 0.8936170212765957,\n",
       "  'recall': 0.8842105263157894,\n",
       "  'f1-score': 0.8888888888888888,\n",
       "  'support': 285},\n",
       " '1': {'precision': 0.931899641577061,\n",
       "  'recall': 0.9122807017543859,\n",
       "  'f1-score': 0.9219858156028369,\n",
       "  'support': 285},\n",
       " '2': {'precision': 0.8877551020408163,\n",
       "  'recall': 0.9157894736842105,\n",
       "  'f1-score': 0.9015544041450776,\n",
       "  'support': 285},\n",
       " 'accuracy': 0.904093567251462,\n",
       " 'macro avg': {'precision': 0.904423921631491,\n",
       "  'recall': 0.904093567251462,\n",
       "  'f1-score': 0.9041430362122678,\n",
       "  'support': 855},\n",
       " 'weighted avg': {'precision': 0.904423921631491,\n",
       "  'recall': 0.904093567251462,\n",
       "  'f1-score': 0.9041430362122677,\n",
       "  'support': 855}}"
      ]
     },
     "execution_count": 21,
     "metadata": {},
     "output_type": "execute_result"
    }
   ],
   "source": [
    "report"
   ]
  },
  {
   "cell_type": "code",
   "execution_count": 23,
   "id": "f0289219",
   "metadata": {},
   "outputs": [],
   "source": [
    "import pickle\n",
    "pickle.dump(linear_svm, open(\"models/linear_svm_v0.pkl\", \"wb\"))\n"
   ]
  },
  {
   "cell_type": "code",
   "execution_count": null,
   "id": "a4cc5ee8",
   "metadata": {},
   "outputs": [],
   "source": []
  },
  {
   "cell_type": "code",
   "execution_count": null,
   "id": "a6cbe8f7",
   "metadata": {},
   "outputs": [],
   "source": []
  },
  {
   "cell_type": "code",
   "execution_count": null,
   "id": "b63bae08",
   "metadata": {
    "tags": []
   },
   "outputs": [],
   "source": [
    "\n",
    "class TrainSentiment:\n",
    "    \"\"\"\"\"\"\n",
    "    def __init__(self, twitter_train=settings.TWITTER_TRAINING, twitter_val=settings.TWITTER_VALIDATION):\n",
    "        self.twitter_train = pd.read_csv(twitter_train)\n",
    "        self.twitter_val   = pd.read_csv(twitter_val)\n",
    "        self.dfs           = [self.twitter_train, self.twitter_val]\n",
    "        self.train_preproc = None\n",
    "        self.val_preproc   = None\n",
    "        self.train_vecs    = None\n",
    "        self.val_vecs      = None\n",
    "        \n",
    "\n",
    "    def preprocess(self):\n",
    "        for df in self.dfs:\n",
    "\n",
    "            ### Remove Null Tweets\n",
    "            df = df.dropna(subset=['TWEET'])\n",
    "            \n",
    "            ### Encode Source\n",
    "            le = LabelEncoder()\n",
    "            df['SOURCE'] = le.fit_transform(df['SOURCE'])\n",
    "\n",
    "            ### Encode Sentiment\n",
    "            df['SENTIMENT'] = le.fit_transform(df['SENTIMENT'])\n",
    "\n",
    "            ### Drop ID\n",
    "            df = df.drop(columns={'ID'})\n",
    "            \n",
    "            # Append dataframes\n",
    "            dfs.append(df)\n",
    "\n",
    "        self.train_preproc, self.val_preproc = dfs\n",
    "\n",
    "    def tf_idf(self):\n",
    "        # Feature Vectorization\n",
    "        vectorizer = TfidfVectorizer(min_df = 5,\n",
    "                                    max_df = 0.8,\n",
    "                                    sublinear_tf = True,\n",
    "                                    use_idf = True)\n",
    "\n",
    "        self.train_vecs = vectorizer.fit_transform(self.train_preproc['TWEET'])\n",
    "        self.val_vecs = vectorizer.transform(self.val_preproc['TWEET'])\n",
    "\n",
    "    def train_svm(self):\n",
    "        # Perform classification with SVM, kernel=linear\n",
    "        linear_svm = svm.SVC(kernel='linear')\n",
    "        linear_svm.fit(self.train_vecs, self.train_preproc['SENTIMENT'])\n",
    "        pickle.dump(linear_svm, open(\"linear_svm.pkl\", \"wb\"))\n",
    "        # yval_pred = linear_svm.predict(self.val_vecs)\n"
   ]
  }
 ],
 "metadata": {
  "availableInstances": [
   {
    "_defaultOrder": 0,
    "_isFastLaunch": true,
    "category": "General purpose",
    "gpuNum": 0,
    "hideHardwareSpecs": false,
    "memoryGiB": 4,
    "name": "ml.t3.medium",
    "vcpuNum": 2
   },
   {
    "_defaultOrder": 1,
    "_isFastLaunch": false,
    "category": "General purpose",
    "gpuNum": 0,
    "hideHardwareSpecs": false,
    "memoryGiB": 8,
    "name": "ml.t3.large",
    "vcpuNum": 2
   },
   {
    "_defaultOrder": 2,
    "_isFastLaunch": false,
    "category": "General purpose",
    "gpuNum": 0,
    "hideHardwareSpecs": false,
    "memoryGiB": 16,
    "name": "ml.t3.xlarge",
    "vcpuNum": 4
   },
   {
    "_defaultOrder": 3,
    "_isFastLaunch": false,
    "category": "General purpose",
    "gpuNum": 0,
    "hideHardwareSpecs": false,
    "memoryGiB": 32,
    "name": "ml.t3.2xlarge",
    "vcpuNum": 8
   },
   {
    "_defaultOrder": 4,
    "_isFastLaunch": true,
    "category": "General purpose",
    "gpuNum": 0,
    "hideHardwareSpecs": false,
    "memoryGiB": 8,
    "name": "ml.m5.large",
    "vcpuNum": 2
   },
   {
    "_defaultOrder": 5,
    "_isFastLaunch": false,
    "category": "General purpose",
    "gpuNum": 0,
    "hideHardwareSpecs": false,
    "memoryGiB": 16,
    "name": "ml.m5.xlarge",
    "vcpuNum": 4
   },
   {
    "_defaultOrder": 6,
    "_isFastLaunch": false,
    "category": "General purpose",
    "gpuNum": 0,
    "hideHardwareSpecs": false,
    "memoryGiB": 32,
    "name": "ml.m5.2xlarge",
    "vcpuNum": 8
   },
   {
    "_defaultOrder": 7,
    "_isFastLaunch": false,
    "category": "General purpose",
    "gpuNum": 0,
    "hideHardwareSpecs": false,
    "memoryGiB": 64,
    "name": "ml.m5.4xlarge",
    "vcpuNum": 16
   },
   {
    "_defaultOrder": 8,
    "_isFastLaunch": false,
    "category": "General purpose",
    "gpuNum": 0,
    "hideHardwareSpecs": false,
    "memoryGiB": 128,
    "name": "ml.m5.8xlarge",
    "vcpuNum": 32
   },
   {
    "_defaultOrder": 9,
    "_isFastLaunch": false,
    "category": "General purpose",
    "gpuNum": 0,
    "hideHardwareSpecs": false,
    "memoryGiB": 192,
    "name": "ml.m5.12xlarge",
    "vcpuNum": 48
   },
   {
    "_defaultOrder": 10,
    "_isFastLaunch": false,
    "category": "General purpose",
    "gpuNum": 0,
    "hideHardwareSpecs": false,
    "memoryGiB": 256,
    "name": "ml.m5.16xlarge",
    "vcpuNum": 64
   },
   {
    "_defaultOrder": 11,
    "_isFastLaunch": false,
    "category": "General purpose",
    "gpuNum": 0,
    "hideHardwareSpecs": false,
    "memoryGiB": 384,
    "name": "ml.m5.24xlarge",
    "vcpuNum": 96
   },
   {
    "_defaultOrder": 12,
    "_isFastLaunch": false,
    "category": "General purpose",
    "gpuNum": 0,
    "hideHardwareSpecs": false,
    "memoryGiB": 8,
    "name": "ml.m5d.large",
    "vcpuNum": 2
   },
   {
    "_defaultOrder": 13,
    "_isFastLaunch": false,
    "category": "General purpose",
    "gpuNum": 0,
    "hideHardwareSpecs": false,
    "memoryGiB": 16,
    "name": "ml.m5d.xlarge",
    "vcpuNum": 4
   },
   {
    "_defaultOrder": 14,
    "_isFastLaunch": false,
    "category": "General purpose",
    "gpuNum": 0,
    "hideHardwareSpecs": false,
    "memoryGiB": 32,
    "name": "ml.m5d.2xlarge",
    "vcpuNum": 8
   },
   {
    "_defaultOrder": 15,
    "_isFastLaunch": false,
    "category": "General purpose",
    "gpuNum": 0,
    "hideHardwareSpecs": false,
    "memoryGiB": 64,
    "name": "ml.m5d.4xlarge",
    "vcpuNum": 16
   },
   {
    "_defaultOrder": 16,
    "_isFastLaunch": false,
    "category": "General purpose",
    "gpuNum": 0,
    "hideHardwareSpecs": false,
    "memoryGiB": 128,
    "name": "ml.m5d.8xlarge",
    "vcpuNum": 32
   },
   {
    "_defaultOrder": 17,
    "_isFastLaunch": false,
    "category": "General purpose",
    "gpuNum": 0,
    "hideHardwareSpecs": false,
    "memoryGiB": 192,
    "name": "ml.m5d.12xlarge",
    "vcpuNum": 48
   },
   {
    "_defaultOrder": 18,
    "_isFastLaunch": false,
    "category": "General purpose",
    "gpuNum": 0,
    "hideHardwareSpecs": false,
    "memoryGiB": 256,
    "name": "ml.m5d.16xlarge",
    "vcpuNum": 64
   },
   {
    "_defaultOrder": 19,
    "_isFastLaunch": false,
    "category": "General purpose",
    "gpuNum": 0,
    "hideHardwareSpecs": false,
    "memoryGiB": 384,
    "name": "ml.m5d.24xlarge",
    "vcpuNum": 96
   },
   {
    "_defaultOrder": 20,
    "_isFastLaunch": false,
    "category": "General purpose",
    "gpuNum": 0,
    "hideHardwareSpecs": true,
    "memoryGiB": 0,
    "name": "ml.geospatial.interactive",
    "supportedImageNames": [
     "sagemaker-geospatial-v1-0"
    ],
    "vcpuNum": 0
   },
   {
    "_defaultOrder": 21,
    "_isFastLaunch": true,
    "category": "Compute optimized",
    "gpuNum": 0,
    "hideHardwareSpecs": false,
    "memoryGiB": 4,
    "name": "ml.c5.large",
    "vcpuNum": 2
   },
   {
    "_defaultOrder": 22,
    "_isFastLaunch": false,
    "category": "Compute optimized",
    "gpuNum": 0,
    "hideHardwareSpecs": false,
    "memoryGiB": 8,
    "name": "ml.c5.xlarge",
    "vcpuNum": 4
   },
   {
    "_defaultOrder": 23,
    "_isFastLaunch": false,
    "category": "Compute optimized",
    "gpuNum": 0,
    "hideHardwareSpecs": false,
    "memoryGiB": 16,
    "name": "ml.c5.2xlarge",
    "vcpuNum": 8
   },
   {
    "_defaultOrder": 24,
    "_isFastLaunch": false,
    "category": "Compute optimized",
    "gpuNum": 0,
    "hideHardwareSpecs": false,
    "memoryGiB": 32,
    "name": "ml.c5.4xlarge",
    "vcpuNum": 16
   },
   {
    "_defaultOrder": 25,
    "_isFastLaunch": false,
    "category": "Compute optimized",
    "gpuNum": 0,
    "hideHardwareSpecs": false,
    "memoryGiB": 72,
    "name": "ml.c5.9xlarge",
    "vcpuNum": 36
   },
   {
    "_defaultOrder": 26,
    "_isFastLaunch": false,
    "category": "Compute optimized",
    "gpuNum": 0,
    "hideHardwareSpecs": false,
    "memoryGiB": 96,
    "name": "ml.c5.12xlarge",
    "vcpuNum": 48
   },
   {
    "_defaultOrder": 27,
    "_isFastLaunch": false,
    "category": "Compute optimized",
    "gpuNum": 0,
    "hideHardwareSpecs": false,
    "memoryGiB": 144,
    "name": "ml.c5.18xlarge",
    "vcpuNum": 72
   },
   {
    "_defaultOrder": 28,
    "_isFastLaunch": false,
    "category": "Compute optimized",
    "gpuNum": 0,
    "hideHardwareSpecs": false,
    "memoryGiB": 192,
    "name": "ml.c5.24xlarge",
    "vcpuNum": 96
   },
   {
    "_defaultOrder": 29,
    "_isFastLaunch": true,
    "category": "Accelerated computing",
    "gpuNum": 1,
    "hideHardwareSpecs": false,
    "memoryGiB": 16,
    "name": "ml.g4dn.xlarge",
    "vcpuNum": 4
   },
   {
    "_defaultOrder": 30,
    "_isFastLaunch": false,
    "category": "Accelerated computing",
    "gpuNum": 1,
    "hideHardwareSpecs": false,
    "memoryGiB": 32,
    "name": "ml.g4dn.2xlarge",
    "vcpuNum": 8
   },
   {
    "_defaultOrder": 31,
    "_isFastLaunch": false,
    "category": "Accelerated computing",
    "gpuNum": 1,
    "hideHardwareSpecs": false,
    "memoryGiB": 64,
    "name": "ml.g4dn.4xlarge",
    "vcpuNum": 16
   },
   {
    "_defaultOrder": 32,
    "_isFastLaunch": false,
    "category": "Accelerated computing",
    "gpuNum": 1,
    "hideHardwareSpecs": false,
    "memoryGiB": 128,
    "name": "ml.g4dn.8xlarge",
    "vcpuNum": 32
   },
   {
    "_defaultOrder": 33,
    "_isFastLaunch": false,
    "category": "Accelerated computing",
    "gpuNum": 4,
    "hideHardwareSpecs": false,
    "memoryGiB": 192,
    "name": "ml.g4dn.12xlarge",
    "vcpuNum": 48
   },
   {
    "_defaultOrder": 34,
    "_isFastLaunch": false,
    "category": "Accelerated computing",
    "gpuNum": 1,
    "hideHardwareSpecs": false,
    "memoryGiB": 256,
    "name": "ml.g4dn.16xlarge",
    "vcpuNum": 64
   },
   {
    "_defaultOrder": 35,
    "_isFastLaunch": false,
    "category": "Accelerated computing",
    "gpuNum": 1,
    "hideHardwareSpecs": false,
    "memoryGiB": 61,
    "name": "ml.p3.2xlarge",
    "vcpuNum": 8
   },
   {
    "_defaultOrder": 36,
    "_isFastLaunch": false,
    "category": "Accelerated computing",
    "gpuNum": 4,
    "hideHardwareSpecs": false,
    "memoryGiB": 244,
    "name": "ml.p3.8xlarge",
    "vcpuNum": 32
   },
   {
    "_defaultOrder": 37,
    "_isFastLaunch": false,
    "category": "Accelerated computing",
    "gpuNum": 8,
    "hideHardwareSpecs": false,
    "memoryGiB": 488,
    "name": "ml.p3.16xlarge",
    "vcpuNum": 64
   },
   {
    "_defaultOrder": 38,
    "_isFastLaunch": false,
    "category": "Accelerated computing",
    "gpuNum": 8,
    "hideHardwareSpecs": false,
    "memoryGiB": 768,
    "name": "ml.p3dn.24xlarge",
    "vcpuNum": 96
   },
   {
    "_defaultOrder": 39,
    "_isFastLaunch": false,
    "category": "Memory Optimized",
    "gpuNum": 0,
    "hideHardwareSpecs": false,
    "memoryGiB": 16,
    "name": "ml.r5.large",
    "vcpuNum": 2
   },
   {
    "_defaultOrder": 40,
    "_isFastLaunch": false,
    "category": "Memory Optimized",
    "gpuNum": 0,
    "hideHardwareSpecs": false,
    "memoryGiB": 32,
    "name": "ml.r5.xlarge",
    "vcpuNum": 4
   },
   {
    "_defaultOrder": 41,
    "_isFastLaunch": false,
    "category": "Memory Optimized",
    "gpuNum": 0,
    "hideHardwareSpecs": false,
    "memoryGiB": 64,
    "name": "ml.r5.2xlarge",
    "vcpuNum": 8
   },
   {
    "_defaultOrder": 42,
    "_isFastLaunch": false,
    "category": "Memory Optimized",
    "gpuNum": 0,
    "hideHardwareSpecs": false,
    "memoryGiB": 128,
    "name": "ml.r5.4xlarge",
    "vcpuNum": 16
   },
   {
    "_defaultOrder": 43,
    "_isFastLaunch": false,
    "category": "Memory Optimized",
    "gpuNum": 0,
    "hideHardwareSpecs": false,
    "memoryGiB": 256,
    "name": "ml.r5.8xlarge",
    "vcpuNum": 32
   },
   {
    "_defaultOrder": 44,
    "_isFastLaunch": false,
    "category": "Memory Optimized",
    "gpuNum": 0,
    "hideHardwareSpecs": false,
    "memoryGiB": 384,
    "name": "ml.r5.12xlarge",
    "vcpuNum": 48
   },
   {
    "_defaultOrder": 45,
    "_isFastLaunch": false,
    "category": "Memory Optimized",
    "gpuNum": 0,
    "hideHardwareSpecs": false,
    "memoryGiB": 512,
    "name": "ml.r5.16xlarge",
    "vcpuNum": 64
   },
   {
    "_defaultOrder": 46,
    "_isFastLaunch": false,
    "category": "Memory Optimized",
    "gpuNum": 0,
    "hideHardwareSpecs": false,
    "memoryGiB": 768,
    "name": "ml.r5.24xlarge",
    "vcpuNum": 96
   },
   {
    "_defaultOrder": 47,
    "_isFastLaunch": false,
    "category": "Accelerated computing",
    "gpuNum": 1,
    "hideHardwareSpecs": false,
    "memoryGiB": 16,
    "name": "ml.g5.xlarge",
    "vcpuNum": 4
   },
   {
    "_defaultOrder": 48,
    "_isFastLaunch": false,
    "category": "Accelerated computing",
    "gpuNum": 1,
    "hideHardwareSpecs": false,
    "memoryGiB": 32,
    "name": "ml.g5.2xlarge",
    "vcpuNum": 8
   },
   {
    "_defaultOrder": 49,
    "_isFastLaunch": false,
    "category": "Accelerated computing",
    "gpuNum": 1,
    "hideHardwareSpecs": false,
    "memoryGiB": 64,
    "name": "ml.g5.4xlarge",
    "vcpuNum": 16
   },
   {
    "_defaultOrder": 50,
    "_isFastLaunch": false,
    "category": "Accelerated computing",
    "gpuNum": 1,
    "hideHardwareSpecs": false,
    "memoryGiB": 128,
    "name": "ml.g5.8xlarge",
    "vcpuNum": 32
   },
   {
    "_defaultOrder": 51,
    "_isFastLaunch": false,
    "category": "Accelerated computing",
    "gpuNum": 1,
    "hideHardwareSpecs": false,
    "memoryGiB": 256,
    "name": "ml.g5.16xlarge",
    "vcpuNum": 64
   },
   {
    "_defaultOrder": 52,
    "_isFastLaunch": false,
    "category": "Accelerated computing",
    "gpuNum": 4,
    "hideHardwareSpecs": false,
    "memoryGiB": 192,
    "name": "ml.g5.12xlarge",
    "vcpuNum": 48
   },
   {
    "_defaultOrder": 53,
    "_isFastLaunch": false,
    "category": "Accelerated computing",
    "gpuNum": 4,
    "hideHardwareSpecs": false,
    "memoryGiB": 384,
    "name": "ml.g5.24xlarge",
    "vcpuNum": 96
   },
   {
    "_defaultOrder": 54,
    "_isFastLaunch": false,
    "category": "Accelerated computing",
    "gpuNum": 8,
    "hideHardwareSpecs": false,
    "memoryGiB": 768,
    "name": "ml.g5.48xlarge",
    "vcpuNum": 192
   },
   {
    "_defaultOrder": 55,
    "_isFastLaunch": false,
    "category": "Accelerated computing",
    "gpuNum": 8,
    "hideHardwareSpecs": false,
    "memoryGiB": 1152,
    "name": "ml.p4d.24xlarge",
    "vcpuNum": 96
   },
   {
    "_defaultOrder": 56,
    "_isFastLaunch": false,
    "category": "Accelerated computing",
    "gpuNum": 8,
    "hideHardwareSpecs": false,
    "memoryGiB": 1152,
    "name": "ml.p4de.24xlarge",
    "vcpuNum": 96
   }
  ],
  "instance_type": "ml.g4dn.xlarge",
  "kernelspec": {
   "display_name": "Python 3 (Data Science 3.0)",
   "language": "python",
   "name": "python3__SAGEMAKER_INTERNAL__arn:aws:sagemaker:us-east-2:429704687514:image/sagemaker-data-science-310-v1"
  },
  "language_info": {
   "codemirror_mode": {
    "name": "ipython",
    "version": 3
   },
   "file_extension": ".py",
   "mimetype": "text/x-python",
   "name": "python",
   "nbconvert_exporter": "python",
   "pygments_lexer": "ipython3",
   "version": "3.10.6"
  }
 },
 "nbformat": 4,
 "nbformat_minor": 5
}
