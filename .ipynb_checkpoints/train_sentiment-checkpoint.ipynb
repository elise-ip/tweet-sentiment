{
 "cells": [
  {
   "cell_type": "code",
   "execution_count": 1,
   "id": "e7fecd4d",
   "metadata": {},
   "outputs": [],
   "source": [
    "import pandas as pd\n",
    "# Training Data\n",
    "training_df = pd.read_csv(r\"C:\\Users\\ebrady\\Personal Projects\\tweet-sentiment\\data\\twitter_training.csv\")\n",
    "\n",
    "# Validation Data\n",
    "validation_df = pd.read_csv(r\"C:\\Users\\ebrady\\Personal Projects\\tweet-sentiment\\data\\twitter_validation.csv\")"
   ]
  },
  {
   "cell_type": "code",
   "execution_count": 2,
   "id": "9325fe38",
   "metadata": {},
   "outputs": [
    {
     "data": {
      "text/html": [
       "<div>\n",
       "<style scoped>\n",
       "    .dataframe tbody tr th:only-of-type {\n",
       "        vertical-align: middle;\n",
       "    }\n",
       "\n",
       "    .dataframe tbody tr th {\n",
       "        vertical-align: top;\n",
       "    }\n",
       "\n",
       "    .dataframe thead th {\n",
       "        text-align: right;\n",
       "    }\n",
       "</style>\n",
       "<table border=\"1\" class=\"dataframe\">\n",
       "  <thead>\n",
       "    <tr style=\"text-align: right;\">\n",
       "      <th></th>\n",
       "      <th>ID</th>\n",
       "      <th>SOURCE</th>\n",
       "      <th>SENTIMENT</th>\n",
       "      <th>TWEET</th>\n",
       "    </tr>\n",
       "  </thead>\n",
       "  <tbody>\n",
       "    <tr>\n",
       "      <th>33355</th>\n",
       "      <td>6526</td>\n",
       "      <td>Fortnite</td>\n",
       "      <td>Negative</td>\n",
       "      <td>bro fuck the bots in Fortnite This game is so ...</td>\n",
       "    </tr>\n",
       "    <tr>\n",
       "      <th>64505</th>\n",
       "      <td>7850</td>\n",
       "      <td>MaddenNFL</td>\n",
       "      <td>Negative</td>\n",
       "      <td>why is madden nfl's music this year up so smack</td>\n",
       "    </tr>\n",
       "    <tr>\n",
       "      <th>26513</th>\n",
       "      <td>954</td>\n",
       "      <td>AssassinsCreed</td>\n",
       "      <td>Positive</td>\n",
       "      <td>in</td>\n",
       "    </tr>\n",
       "    <tr>\n",
       "      <th>39258</th>\n",
       "      <td>5539</td>\n",
       "      <td>Hearthstone</td>\n",
       "      <td>Negative</td>\n",
       "      <td>Holy shit. Arena sucks now. Bring back all the...</td>\n",
       "    </tr>\n",
       "    <tr>\n",
       "      <th>5496</th>\n",
       "      <td>147</td>\n",
       "      <td>Amazon</td>\n",
       "      <td>Neutral</td>\n",
       "      <td>Why Instacart and Amazon workers are going on ...</td>\n",
       "    </tr>\n",
       "    <tr>\n",
       "      <th>68335</th>\n",
       "      <td>3702</td>\n",
       "      <td>Cyberpunk2077</td>\n",
       "      <td>Neutral</td>\n",
       "      <td>Me.... but..... why.... okay.... so Cyberpunk ...</td>\n",
       "    </tr>\n",
       "    <tr>\n",
       "      <th>1328</th>\n",
       "      <td>2632</td>\n",
       "      <td>Borderlands</td>\n",
       "      <td>Positive</td>\n",
       "      <td>. L I V E!. Weekend runs with television! Let'...</td>\n",
       "    </tr>\n",
       "    <tr>\n",
       "      <th>13539</th>\n",
       "      <td>8723</td>\n",
       "      <td>NBA2K</td>\n",
       "      <td>Negative</td>\n",
       "      <td>@NBA2K count 7 days fucker</td>\n",
       "    </tr>\n",
       "    <tr>\n",
       "      <th>72724</th>\n",
       "      <td>8858</td>\n",
       "      <td>Nvidia</td>\n",
       "      <td>Negative</td>\n",
       "      <td>i just had had a huge freakout moment because ...</td>\n",
       "    </tr>\n",
       "    <tr>\n",
       "      <th>1816</th>\n",
       "      <td>2718</td>\n",
       "      <td>Borderlands</td>\n",
       "      <td>Positive</td>\n",
       "      <td>as Happy 4th of July!!!! Borderlands 3 Type of...</td>\n",
       "    </tr>\n",
       "  </tbody>\n",
       "</table>\n",
       "</div>"
      ],
      "text/plain": [
       "         ID          SOURCE SENTIMENT  \\\n",
       "33355  6526        Fortnite  Negative   \n",
       "64505  7850       MaddenNFL  Negative   \n",
       "26513   954  AssassinsCreed  Positive   \n",
       "39258  5539     Hearthstone  Negative   \n",
       "5496    147          Amazon   Neutral   \n",
       "68335  3702   Cyberpunk2077   Neutral   \n",
       "1328   2632     Borderlands  Positive   \n",
       "13539  8723           NBA2K  Negative   \n",
       "72724  8858          Nvidia  Negative   \n",
       "1816   2718     Borderlands  Positive   \n",
       "\n",
       "                                                   TWEET  \n",
       "33355  bro fuck the bots in Fortnite This game is so ...  \n",
       "64505    why is madden nfl's music this year up so smack  \n",
       "26513                                                 in  \n",
       "39258  Holy shit. Arena sucks now. Bring back all the...  \n",
       "5496   Why Instacart and Amazon workers are going on ...  \n",
       "68335  Me.... but..... why.... okay.... so Cyberpunk ...  \n",
       "1328   . L I V E!. Weekend runs with television! Let'...  \n",
       "13539                         @NBA2K count 7 days fucker  \n",
       "72724  i just had had a huge freakout moment because ...  \n",
       "1816   as Happy 4th of July!!!! Borderlands 3 Type of...  "
      ]
     },
     "execution_count": 2,
     "metadata": {},
     "output_type": "execute_result"
    }
   ],
   "source": [
    "# Visualize the training data\n",
    "training_df.sample(frac=1).head(10)"
   ]
  },
  {
   "cell_type": "code",
   "execution_count": 3,
   "id": "8b95db87",
   "metadata": {},
   "outputs": [
    {
     "data": {
      "text/plain": [
       "Negative      22542\n",
       "Positive      20832\n",
       "Neutral       18318\n",
       "Irrelevant    12990\n",
       "Name: SENTIMENT, dtype: int64"
      ]
     },
     "execution_count": 3,
     "metadata": {},
     "output_type": "execute_result"
    }
   ],
   "source": [
    "# Visualize split of source\n",
    "training_df['SOURCE'].value_counts()\n",
    "\n",
    "# Visualize split of sentiment\n",
    "training_df['SENTIMENT'].value_counts()"
   ]
  },
  {
   "cell_type": "code",
   "execution_count": null,
   "id": "cd38a6a4",
   "metadata": {},
   "outputs": [],
   "source": [
    "### Downsample\n"
   ]
  },
  {
   "cell_type": "code",
   "execution_count": 4,
   "id": "44053046",
   "metadata": {},
   "outputs": [
    {
     "name": "stderr",
     "output_type": "stream",
     "text": [
      "C:\\Users\\ebrady\\AppData\\Local\\Temp\\ipykernel_19596\\3254828095.py:10: SettingWithCopyWarning: \n",
      "A value is trying to be set on a copy of a slice from a DataFrame.\n",
      "Try using .loc[row_indexer,col_indexer] = value instead\n",
      "\n",
      "See the caveats in the documentation: https://pandas.pydata.org/pandas-docs/stable/user_guide/indexing.html#returning-a-view-versus-a-copy\n",
      "  df['SOURCE'] = le.fit_transform(df['SOURCE'])\n",
      "C:\\Users\\ebrady\\AppData\\Local\\Temp\\ipykernel_19596\\3254828095.py:13: SettingWithCopyWarning: \n",
      "A value is trying to be set on a copy of a slice from a DataFrame.\n",
      "Try using .loc[row_indexer,col_indexer] = value instead\n",
      "\n",
      "See the caveats in the documentation: https://pandas.pydata.org/pandas-docs/stable/user_guide/indexing.html#returning-a-view-versus-a-copy\n",
      "  df['SENTIMENT'] = le.fit_transform(df['SENTIMENT'])\n"
     ]
    }
   ],
   "source": [
    "from sklearn.preprocessing import LabelEncoder\n",
    "\n",
    "dfs = []\n",
    "for df in [training_df, validation_df]:\n",
    "    ### Remove Null Tweets\n",
    "    df = df.dropna(subset=['TWEET'])\n",
    "    \n",
    "    ### Encode Source\n",
    "    le = LabelEncoder()\n",
    "    df['SOURCE'] = le.fit_transform(df['SOURCE'])\n",
    "\n",
    "    ### Encode Sentiment\n",
    "    df['SENTIMENT'] = le.fit_transform(df['SENTIMENT'])\n",
    "\n",
    "    ### Drop ID\n",
    "    df = df.drop(columns={'ID'})\n",
    "    \n",
    "    # Append dataframes\n",
    "    dfs.append(df)\n",
    "\n",
    "training_df, validation_df = dfs"
   ]
  },
  {
   "cell_type": "code",
   "execution_count": 6,
   "id": "74dee9de",
   "metadata": {},
   "outputs": [],
   "source": [
    "### Set character threshold\n"
   ]
  },
  {
   "cell_type": "code",
   "execution_count": 12,
   "id": "cbb66c10",
   "metadata": {},
   "outputs": [],
   "source": [
    "from sklearn.feature_extraction.text import TfidfVectorizer\n",
    "\n",
    "# Feature Vectorization\n",
    "vectorizer = TfidfVectorizer(min_df = 5,\n",
    "                             max_df = 0.8,\n",
    "                             sublinear_tf = True,\n",
    "                             use_idf = True)\n",
    "\n",
    "train_vecs = vectorizer.fit_transform(training_df['TWEET'])\n",
    "val_vecs = vectorizer.transform(validation_df['TWEET'])"
   ]
  },
  {
   "cell_type": "code",
   "execution_count": 20,
   "id": "fbbc2279",
   "metadata": {},
   "outputs": [
    {
     "data": {
      "text/plain": [
       "(73996, 18390)"
      ]
     },
     "execution_count": 20,
     "metadata": {},
     "output_type": "execute_result"
    }
   ],
   "source": [
    "train_vecs.shape"
   ]
  },
  {
   "cell_type": "code",
   "execution_count": 21,
   "id": "977e8fc7",
   "metadata": {},
   "outputs": [],
   "source": [
    "### Combine feature vectors with data\n",
    "\n",
    "# import pandas as pd\n",
    "# import scipy.sparse as sp\n",
    "\n",
    "# # Convert the DataFrame to a NumPy array\n",
    "# train_array = training_df['SOURCE'].values\n",
    "# val_array = validation_df['SOURCE'].values\n",
    "\n",
    "# # Convert the NumPy array to a SciPy sparse CSR matrix\n",
    "# train_csr_matrix = scipy.sparse.csr_matrix(train_array)\n",
    "# val_csr_matrix = scipy.sparse.csr_matrix(val_array)\n",
    "\n",
    "# # Use the `scipy.sparse.csr_matrix.vstack()` function to concatenate the two matrices\n",
    "# train_preproc = sp.vstack((train_csr_matrix, train_vecs))\n",
    "# val_preproc = sp.vstack((val_csr_matrix, val_vecs))"
   ]
  },
  {
   "cell_type": "code",
   "execution_count": null,
   "id": "db5e8a5a",
   "metadata": {},
   "outputs": [],
   "source": [
    "from sklearn import svm\n",
    "from sklearn.metrics import classification_report\n",
    "\n",
    "x_train = train_vecs\n",
    "y_train = training_df['SENTIMENT']\n",
    "\n",
    "x_val = val_vecs\n",
    "y_val_true = validation_df['SENTIMENT']\n",
    "\n",
    "# Perform classification with SVM, kernel=linear\n",
    "linear_svm = svm.SVC(kernel='linear')\n",
    "linear_svm.fit(x_train, y_train)\n",
    "yval_pred = linear_svm.predict(x_val)\n",
    "\n",
    "# Results\n",
    "report = classification_report(validation_df['SENTIMENT'], prediction_linear, output_dict=True)\n",
    "print('positive: ', report['pos'])\n",
    "print('negative: ', report['neg'])\n"
   ]
  },
  {
   "cell_type": "code",
   "execution_count": null,
   "id": "aae6c0f8",
   "metadata": {},
   "outputs": [],
   "source": [
    "from sklearn.metrics import f1_score\n",
    "f1_score(y_val_true, yval_pred)\n"
   ]
  }
 ],
 "metadata": {
  "kernelspec": {
   "display_name": "Python 3 (ipykernel)",
   "language": "python",
   "name": "python3"
  },
  "language_info": {
   "codemirror_mode": {
    "name": "ipython",
    "version": 3
   },
   "file_extension": ".py",
   "mimetype": "text/x-python",
   "name": "python",
   "nbconvert_exporter": "python",
   "pygments_lexer": "ipython3",
   "version": "3.9.13"
  }
 },
 "nbformat": 4,
 "nbformat_minor": 5
}
