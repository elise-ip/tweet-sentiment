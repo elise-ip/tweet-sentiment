{
 "cells": [
  {
   "cell_type": "code",
   "execution_count": 16,
   "id": "e7fecd4d",
   "metadata": {},
   "outputs": [],
   "source": [
    "import pandas as pd\n",
    "# Training Data\n",
    "training_df = pd.read_csv(r\"C:\\Users\\ebrady\\Personal Projects\\tweet-sentiment\\data\\twitter_training.csv\")\n",
    "\n",
    "# Validation Data\n",
    "validation_df = pd.read_csv(r\"C:\\Users\\ebrady\\Personal Projects\\tweet-sentiment\\data\\twitter_validation.csv\")"
   ]
  },
  {
   "cell_type": "code",
   "execution_count": 25,
   "id": "9325fe38",
   "metadata": {},
   "outputs": [
    {
     "data": {
      "text/html": [
       "<div>\n",
       "<style scoped>\n",
       "    .dataframe tbody tr th:only-of-type {\n",
       "        vertical-align: middle;\n",
       "    }\n",
       "\n",
       "    .dataframe tbody tr th {\n",
       "        vertical-align: top;\n",
       "    }\n",
       "\n",
       "    .dataframe thead th {\n",
       "        text-align: right;\n",
       "    }\n",
       "</style>\n",
       "<table border=\"1\" class=\"dataframe\">\n",
       "  <thead>\n",
       "    <tr style=\"text-align: right;\">\n",
       "      <th></th>\n",
       "      <th>ID</th>\n",
       "      <th>SOURCE</th>\n",
       "      <th>SENTIMENT</th>\n",
       "      <th>TWEET</th>\n",
       "    </tr>\n",
       "  </thead>\n",
       "  <tbody>\n",
       "    <tr>\n",
       "      <th>22634</th>\n",
       "      <td>4276</td>\n",
       "      <td>CS-GO</td>\n",
       "      <td>Neutral</td>\n",
       "      <td>Aiiight.</td>\n",
       "    </tr>\n",
       "    <tr>\n",
       "      <th>6498</th>\n",
       "      <td>318</td>\n",
       "      <td>Amazon</td>\n",
       "      <td>Neutral</td>\n",
       "      <td>Amazon Echo Studio review: Gorgeous Bass Meets...</td>\n",
       "    </tr>\n",
       "    <tr>\n",
       "      <th>51713</th>\n",
       "      <td>10481</td>\n",
       "      <td>RedDeadRedemption(RDR)</td>\n",
       "      <td>Neutral</td>\n",
       "      <td>One among the stranger things that Dark Dead I...</td>\n",
       "    </tr>\n",
       "    <tr>\n",
       "      <th>26686</th>\n",
       "      <td>984</td>\n",
       "      <td>AssassinsCreed</td>\n",
       "      <td>Neutral</td>\n",
       "      <td>If you ever want to see my entire body go into...</td>\n",
       "    </tr>\n",
       "    <tr>\n",
       "      <th>48204</th>\n",
       "      <td>5875</td>\n",
       "      <td>HomeDepot</td>\n",
       "      <td>Negative</td>\n",
       "      <td>Hey, @HomeDepot how does  . businessinsider.co...</td>\n",
       "    </tr>\n",
       "    <tr>\n",
       "      <th>4275</th>\n",
       "      <td>1936</td>\n",
       "      <td>CallOfDutyBlackopsColdWar</td>\n",
       "      <td>Negative</td>\n",
       "      <td>Worst way to die among the</td>\n",
       "    </tr>\n",
       "    <tr>\n",
       "      <th>49316</th>\n",
       "      <td>6066</td>\n",
       "      <td>FIFA</td>\n",
       "      <td>Negative</td>\n",
       "      <td>You see, that's exactly the kind of updates th...</td>\n",
       "    </tr>\n",
       "    <tr>\n",
       "      <th>15281</th>\n",
       "      <td>3015</td>\n",
       "      <td>Dota2</td>\n",
       "      <td>Neutral</td>\n",
       "      <td>@DotACapitalist Yo, why have you not retweetin...</td>\n",
       "    </tr>\n",
       "    <tr>\n",
       "      <th>64030</th>\n",
       "      <td>7771</td>\n",
       "      <td>MaddenNFL</td>\n",
       "      <td>Negative</td>\n",
       "      <td>@EAMaddenNFL have spent $ 10 on in game person...</td>\n",
       "    </tr>\n",
       "    <tr>\n",
       "      <th>12304</th>\n",
       "      <td>8514</td>\n",
       "      <td>NBA2K</td>\n",
       "      <td>Positive</td>\n",
       "      <td>I miss Shannon brown so much much</td>\n",
       "    </tr>\n",
       "  </tbody>\n",
       "</table>\n",
       "</div>"
      ],
      "text/plain": [
       "          ID                     SOURCE SENTIMENT  \\\n",
       "22634   4276                      CS-GO   Neutral   \n",
       "6498     318                     Amazon   Neutral   \n",
       "51713  10481     RedDeadRedemption(RDR)   Neutral   \n",
       "26686    984             AssassinsCreed   Neutral   \n",
       "48204   5875                  HomeDepot  Negative   \n",
       "4275    1936  CallOfDutyBlackopsColdWar  Negative   \n",
       "49316   6066                       FIFA  Negative   \n",
       "15281   3015                      Dota2   Neutral   \n",
       "64030   7771                  MaddenNFL  Negative   \n",
       "12304   8514                      NBA2K  Positive   \n",
       "\n",
       "                                                   TWEET  \n",
       "22634                                           Aiiight.  \n",
       "6498   Amazon Echo Studio review: Gorgeous Bass Meets...  \n",
       "51713  One among the stranger things that Dark Dead I...  \n",
       "26686  If you ever want to see my entire body go into...  \n",
       "48204  Hey, @HomeDepot how does  . businessinsider.co...  \n",
       "4275                          Worst way to die among the  \n",
       "49316  You see, that's exactly the kind of updates th...  \n",
       "15281  @DotACapitalist Yo, why have you not retweetin...  \n",
       "64030  @EAMaddenNFL have spent $ 10 on in game person...  \n",
       "12304                  I miss Shannon brown so much much  "
      ]
     },
     "execution_count": 25,
     "metadata": {},
     "output_type": "execute_result"
    }
   ],
   "source": [
    "# Visualize the training data\n",
    "training_df.sample(frac=1).head(10)"
   ]
  },
  {
   "cell_type": "code",
   "execution_count": 26,
   "id": "8b95db87",
   "metadata": {},
   "outputs": [
    {
     "data": {
      "text/plain": [
       "Negative      22542\n",
       "Positive      20832\n",
       "Neutral       18318\n",
       "Irrelevant    12990\n",
       "Name: SENTIMENT, dtype: int64"
      ]
     },
     "execution_count": 26,
     "metadata": {},
     "output_type": "execute_result"
    }
   ],
   "source": [
    "# Visualize split of sentiment\n",
    "training_df['SENTIMENT'].value_counts()"
   ]
  },
  {
   "cell_type": "code",
   "execution_count": null,
   "id": "74dee9de",
   "metadata": {},
   "outputs": [],
   "source": [
    "### Downsample\n"
   ]
  }
 ],
 "metadata": {
  "kernelspec": {
   "display_name": "Python 3 (ipykernel)",
   "language": "python",
   "name": "python3"
  },
  "language_info": {
   "codemirror_mode": {
    "name": "ipython",
    "version": 3
   },
   "file_extension": ".py",
   "mimetype": "text/x-python",
   "name": "python",
   "nbconvert_exporter": "python",
   "pygments_lexer": "ipython3",
   "version": "3.9.13"
  }
 },
 "nbformat": 4,
 "nbformat_minor": 5
}
